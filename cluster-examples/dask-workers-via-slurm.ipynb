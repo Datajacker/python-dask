{
 "cells": [
  {
   "cell_type": "markdown",
   "metadata": {},
   "source": [
    "# Provisioning workers with SLURMCluster\n",
    "\n",
    "We have a function called `whats_my_number` that takes a number as an argument and prints out what host the function is run on.\n",
    "\n",
    "`report_results` appends the output from the various results and prints a report.\n",
    "\n",
    "`elapsed` is a way of timing the execution (we could have used `%time` in this notebook, but we'll run similar code in a plain python script for comparison)."
   ]
  },
  {
   "cell_type": "code",
   "execution_count": null,
   "metadata": {},
   "outputs": [],
   "source": [
    "from dask_jobqueue import SLURMCluster\n",
    "from dask.distributed import Client\n",
    "from dask import delayed\n",
    "\n",
    "import time\n",
    "import socket\n",
    "\n",
    "def whats_my_number(num):\n",
    "    out ='The number on host ' + socket.gethostname() + ' is ' + str(num)\n",
    "    time.sleep(2)\n",
    "    return out\n",
    "\n",
    "def report_results(results):\n",
    "    out = 'Joining on host ' + socket.gethostname() + '\\n'\n",
    "    out += '\\n'.join(results)\n",
    "    return out\n",
    "\n",
    "# How many seconds since start?\n",
    "def elapsed(start):\n",
    "    return str(time.time() - start) + ' seconds'"
   ]
  },
  {
   "cell_type": "code",
   "execution_count": null,
   "metadata": {},
   "outputs": [],
   "source": [
    "# Create the task graph\n",
    "# 8 delayed calls to what's my number,\n",
    "# Assemble output report\n",
    "\n",
    "data = [1, 2, 3, 4, 5, 6, 7, 8]\n",
    "results = []\n",
    "for num in data:\n",
    "    out = delayed(whats_my_number)(num)\n",
    "    results.append(out)\n",
    "\n",
    "report = delayed(report_results)(results)"
   ]
  },
  {
   "cell_type": "code",
   "execution_count": null,
   "metadata": {},
   "outputs": [],
   "source": [
    "# Visualize the task graph\n",
    "report.visualize()"
   ]
  },
  {
   "cell_type": "markdown",
   "metadata": {},
   "source": [
    "## Create a 'SLURM Cluster' of workers and view dashboard\n",
    "\n",
    "Note that no workers get provisioned yet"
   ]
  },
  {
   "cell_type": "code",
   "execution_count": null,
   "metadata": {},
   "outputs": [],
   "source": [
    "cluster = SLURMCluster(project='cc-debug',\n",
    "                       cores=1,\n",
    "                       memory=\"1000MB\",\n",
    "                       walltime='00:15:00')\n",
    "client = Client(cluster)\n",
    "cluster"
   ]
  },
  {
   "cell_type": "markdown",
   "metadata": {},
   "source": [
    "## We can check out the job submission script that will get sent to SLURM to provision each worker (one job per worker)"
   ]
  },
  {
   "cell_type": "code",
   "execution_count": null,
   "metadata": {},
   "outputs": [],
   "source": [
    "print(cluster.job_script())"
   ]
  },
  {
   "cell_type": "markdown",
   "metadata": {},
   "source": [
    "## Provision a worker and check the SLURM queue"
   ]
  },
  {
   "cell_type": "code",
   "execution_count": null,
   "metadata": {},
   "outputs": [],
   "source": [
    "cluster.scale(1)"
   ]
  },
  {
   "cell_type": "code",
   "execution_count": null,
   "metadata": {},
   "outputs": [],
   "source": [
    "!squeue -u $USER"
   ]
  },
  {
   "cell_type": "markdown",
   "metadata": {},
   "source": [
    "## Run our task graph on one worker"
   ]
  },
  {
   "cell_type": "code",
   "execution_count": null,
   "metadata": {},
   "outputs": [],
   "source": [
    "time1 = time.time()\n",
    "result = report.compute()\n",
    "print('Result computed:', elapsed(time1))\n",
    "print('\\nOutput:')\n",
    "print(result)"
   ]
  },
  {
   "cell_type": "markdown",
   "metadata": {},
   "source": [
    "## Scale up to 4 workers and run again"
   ]
  },
  {
   "cell_type": "code",
   "execution_count": null,
   "metadata": {},
   "outputs": [],
   "source": [
    "cluster.scale(4)"
   ]
  },
  {
   "cell_type": "code",
   "execution_count": null,
   "metadata": {},
   "outputs": [],
   "source": [
    "!squeue -u $USER"
   ]
  },
  {
   "cell_type": "code",
   "execution_count": null,
   "metadata": {},
   "outputs": [],
   "source": [
    "time1 = time.time()\n",
    "result = report.compute()\n",
    "print('Result computed:', elapsed(time1))\n",
    "print('\\nOutput:')\n",
    "print(result)"
   ]
  },
  {
   "cell_type": "markdown",
   "metadata": {},
   "source": [
    "## Scale up to 8 workers and run again"
   ]
  },
  {
   "cell_type": "code",
   "execution_count": null,
   "metadata": {},
   "outputs": [],
   "source": [
    "cluster.scale(8)"
   ]
  },
  {
   "cell_type": "code",
   "execution_count": null,
   "metadata": {},
   "outputs": [],
   "source": [
    "!squeue -u $USER"
   ]
  },
  {
   "cell_type": "code",
   "execution_count": null,
   "metadata": {},
   "outputs": [],
   "source": [
    "time1 = time.time()\n",
    "result = report.compute()\n",
    "print('Result computed:', elapsed(time1))\n",
    "print('\\nOutput:')\n",
    "print(result)"
   ]
  },
  {
   "cell_type": "markdown",
   "metadata": {},
   "source": [
    "## Clean up the workers"
   ]
  },
  {
   "cell_type": "code",
   "execution_count": null,
   "metadata": {},
   "outputs": [],
   "source": [
    "# Shut down workers\n",
    "\n",
    "cluster.close()\n",
    "client.close()"
   ]
  },
  {
   "cell_type": "code",
   "execution_count": null,
   "metadata": {},
   "outputs": [],
   "source": [
    "!squeue -u $USER"
   ]
  },
  {
   "cell_type": "code",
   "execution_count": null,
   "metadata": {},
   "outputs": [],
   "source": []
  }
 ],
 "metadata": {
  "kernelspec": {
   "display_name": "Python 3",
   "language": "python",
   "name": "python3"
  },
  "language_info": {
   "codemirror_mode": {
    "name": "ipython",
    "version": 3
   },
   "file_extension": ".py",
   "mimetype": "text/x-python",
   "name": "python",
   "nbconvert_exporter": "python",
   "pygments_lexer": "ipython3",
   "version": "3.7.3"
  }
 },
 "nbformat": 4,
 "nbformat_minor": 2
}
