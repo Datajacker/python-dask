{
 "cells": [
  {
   "cell_type": "markdown",
   "metadata": {},
   "source": [
    "# Dask\n",
    "\n",
    "In this workshop we will explore parallel computing using a python library called Dask.\n",
    "\n",
    "Dask enables a high-level approach to parallelism, and invokes parallelism in many ways. Some ways are best suited for laptop computers, some for HPC clusters.\n",
    "\n",
    "Dask works by taking code, and rearranging it as a graph of tasks. This **task graph** knows which operations and intermediate results depend on earlier results. This graph often is the result of operations performed on Dask **collections**:\n",
    "\n",
    "* `dask.array`: looks and acts like a `numpy` array\n",
    "* `dask.dataframe`: looks and acts like a `pands` dataframe\n",
    "* `dask.bag`: what's in a bag? Could be anything, in any order.\n",
    "\n",
    "Once a task graph is computed, it can be sent to a Dask **scheduler** for execution. Operations in the task graph are **lazy**: they don't execute when you define them, only when they are needed.\n",
    "\n",
    "As a bonus, Dask has some great tools to visualize your task graphs, and for monitoring execution of graphs."
   ]
  },
  {
   "cell_type": "markdown",
   "metadata": {},
   "source": [
    "## Contents\n",
    "\n",
    "1. [dask.delayed](02-delayed.ipynb)\n",
    "1. [Dask Schedulers](03-schedulers.ipynb)\n",
    "1. [dask.array](04-array.ipynb)"
   ]
  },
  {
   "cell_type": "markdown",
   "metadata": {},
   "source": [
    "## References\n",
    "\n",
    "This workshop reuses content from a number of online sources, liberally borrowing examples and content.\n",
    "\n",
    "* https://github.com/dask/dask-tutorial\n",
    "* https://github.com/dask/dask-examples\n",
    "* https://github.com/dask/dask/tree/master/docs/source"
   ]
  }
 ],
 "metadata": {
  "kernelspec": {
   "display_name": "Python 3",
   "language": "python",
   "name": "python3"
  },
  "language_info": {
   "codemirror_mode": {
    "name": "ipython",
    "version": 3
   },
   "file_extension": ".py",
   "mimetype": "text/x-python",
   "name": "python",
   "nbconvert_exporter": "python",
   "pygments_lexer": "ipython3",
   "version": "3.7.3"
  }
 },
 "nbformat": 4,
 "nbformat_minor": 2
}
